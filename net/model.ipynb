{
 "cells": [
  {
   "cell_type": "code",
   "execution_count": 1,
   "metadata": {},
   "outputs": [
    {
     "name": "stderr",
     "output_type": "stream",
     "text": [
      "Using TensorFlow backend.\n"
     ]
    }
   ],
   "source": [
    "import numpy as np\n",
    "import pandas as pd\n",
    "from matplotlib import pyplot as plt\n",
    "from keras.datasets import cifar10\n",
    "from keras.models import Sequential\n",
    "from keras.layers import Dense\n",
    "from keras.layers import Dropout\n",
    "from keras.layers import Flatten\n",
    "from keras.constraints import maxnorm\n",
    "from keras.optimizers import SGD\n",
    "from keras.layers.convolutional import Conv2D\n",
    "from keras.layers.convolutional import MaxPooling2D\n",
    "from keras.utils import np_utils"
   ]
  },
  {
   "cell_type": "code",
   "execution_count": 2,
   "metadata": {
    "collapsed": true
   },
   "outputs": [],
   "source": [
    "def classification(image):\n",
    "    h, w, c = image.shape\n",
    "    model = Sequential()\n",
    "    \n",
    "    # low level features\n",
    "    model.add(Conv2D(64, (3, 3), strides=(2,2), input_shape=(h, w, c), padding='same', activation='relu', kernel_constraint=maxnorm(3)))\n",
    "    model.add(Conv2D(128, (3, 3), strides=(1, 1), padding='same', activation='relu', kernel_constraint=maxnorm(3)))\n",
    "    model.add(Conv2D(128, (3, 3), strides=(2, 2), padding='same', activation='relu', kernel_constraint=maxnorm(3)))\n",
    "    model.add(Conv2D(256, (3, 3), strides=(1, 1), padding='same', activation='relu', kernel_constraint=maxnorm(3)))\n",
    "    model.add(Conv2D(256, (3, 3), strides=(2, 2), padding='same', activation='relu', kernel_constraint=maxnorm(3)))\n",
    "    model.add(Conv2D(512, (3, 3), strides=(1, 1), padding='same', activation='relu', kernel_constraint=maxnorm(3)))\n",
    "    \n",
    "    # global features\n",
    "    model.add(Conv2D(512, (3, 3), strides=(2, 2), padding='same', activation='relu', kernel_constraint=maxnorm(3)))\n",
    "    model.add(Conv2D(512, (3, 3), strides=(1, 1), padding='same', activation='relu', kernel_constraint=maxnorm(3)))\n",
    "    model.add(Conv2D(512, (3, 3), strides=(2, 2), padding='same', activation='relu', kernel_constraint=maxnorm(3)))\n",
    "    model.add(Conv2D(512, (3, 3), strides=(1, 1), padding='same', activation='relu', kernel_constraint=maxnorm(3)))\n",
    "    model.add(Flatten())\n",
    "    model.add(Dense(1024, activation='relu', kernel_constraint=maxnorm(3)))\n",
    "    model.add(Dense(512, activation='relu', kernel_constraint=maxnorm(3)))\n",
    "    model.add(Dense(256, activation='relu', kernel_constraint=maxnorm(3)))\n",
    "    "
   ]
  },
  {
   "cell_type": "code",
   "execution_count": null,
   "metadata": {
    "collapsed": true
   },
   "outputs": [],
   "source": [
    "def colorization(image):\n",
    "    h, w, c = image.shape\n",
    "    model = Sequential()\n",
    "    \n",
    "    # low-level features\n",
    "    model.add(Conv2D(64, (3, 3), strides=(2,2), input_shape=(h, w, c), padding='same', activation='relu', kernel_constraint=maxnorm(3)))\n",
    "    model.add(Conv2D(128, (3, 3), strides=(1, 1), padding='same', activation='relu', kernel_constraint=maxnorm(3)))\n",
    "    model.add(Conv2D(128, (3, 3), strides=(2, 2), padding='same', activation='relu', kernel_constraint=maxnorm(3)))\n",
    "    model.add(Conv2D(256, (3, 3), strides=(1, 1), padding='same', activation='relu', kernel_constraint=maxnorm(3)))\n",
    "    model.add(Conv2D(256, (3, 3), strides=(2, 2), padding='same', activation='relu', kernel_constraint=maxnorm(3)))\n",
    "    model.add(Conv2D(512, (3, 3), strides=(1, 1), padding='same', activation='relu', kernel_constraint=maxnorm(3)))\n",
    "    \n",
    "    # mid-level features\n",
    "    model.add(Conv2D(512, (3, 3), strides=(1, 1), padding='same', activation='relu', kernel_constraint=maxnorm(3)))\n",
    "    model.add(Conv2D(512, (3, 3), strides=(1, 1), padding='same', activation='relu', kernel_constraint=maxnorm(3)))"
   ]
  }
 ],
 "metadata": {
  "kernelspec": {
   "display_name": "Python 2",
   "language": "python",
   "name": "python2"
  },
  "language_info": {
   "codemirror_mode": {
    "name": "ipython",
    "version": 2
   },
   "file_extension": ".py",
   "mimetype": "text/x-python",
   "name": "python",
   "nbconvert_exporter": "python",
   "pygments_lexer": "ipython2",
   "version": "2.7.13"
  }
 },
 "nbformat": 4,
 "nbformat_minor": 2
}
