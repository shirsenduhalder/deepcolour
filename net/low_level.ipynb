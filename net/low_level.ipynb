{
 "cells": [
  {
   "cell_type": "code",
   "execution_count": 1,
   "metadata": {
    "collapsed": false
   },
   "outputs": [
    {
     "name": "stderr",
     "output_type": "stream",
     "text": [
      "Using TensorFlow backend.\n"
     ]
    }
   ],
   "source": [
    "from keras.models import Sequential\n",
    "from keras.layers import Dense\n",
    "from keras.layers import Dropout\n",
    "from keras.layers import Flatten\n",
    "from keras.constraints import maxnorm\n",
    "from keras.optimizers import SGD\n",
    "from keras.layers.convolutional import Conv2D\n",
    "from keras.layers.convolutional import MaxPooling2D\n",
    "from skimage.transform import rescale, resize"
   ]
  },
  {
   "cell_type": "code",
   "execution_count": 7,
   "metadata": {
    "collapsed": true
   },
   "outputs": [],
   "source": [
    "def low_level_classification(image):\n",
    "    h,w,c = image.shape\n",
    "    model = Sequential()\n",
    "    model.add(Conv2D(64,(3,3),strides=(2,2),padding='same',input_shape=(h,w,3),activation='relu', kernel_constraint=maxnorm(3)))\n",
    "    model.add(Conv2D(128,(3,3),strides=(1,1),padding='same',activation='relu', kernel_constraint=maxnorm(3)))\n",
    "    model.add(Conv2D(128,(3,3),strides=(2,2),padding='same',activation='relu', kernel_constraint=maxnorm(3)))\n",
    "    model.add(Conv2D(256,(3,3),strides=(1,1),padding='same',activation='relu', kernel_constraint=maxnorm(3)))\n",
    "    model.add(Conv2D(256,(3,3),strides=(2,2),padding='same',activation='relu', kernel_constraint=maxnorm(3)))\n",
    "    model.add(Conv2D(512,(3,3),strides=(1,1),padding='same',activation='relu', kernel_constraint=maxnorm(3)))"
   ]
  },
  {
   "cell_type": "code",
   "execution_count": 6,
   "metadata": {
    "collapsed": true
   },
   "outputs": [],
   "source": [
    "def low_level_colorization(image):\n",
    "    h,w,c = image.shape\n",
    "    model = Sequential()\n",
    "    model.add(Conv2D(64,(3,3),strides=(2,2),padding='same',input_shape=(h,w,3),activation='relu', kernel_constraint=maxnorm(3)))\n",
    "    model.add(Conv2D(128,(3,3),strides=(1,1),padding='same',activation='relu', kernel_constraint=maxnorm(3)))\n",
    "    model.add(Conv2D(128,(3,3),strides=(2,2),padding='same',activation='relu', kernel_constraint=maxnorm(3)))\n",
    "    model.add(Conv2D(256,(3,3),strides=(1,1),padding='same',activation='relu', kernel_constraint=maxnorm(3)))\n",
    "    model.add(Conv2D(256,(3,3),strides=(2,2),padding='same',activation='relu', kernel_constraint=maxnorm(3)))\n",
    "    model.add(Conv2D(512,(3,3),strides=(1,1),padding='same',activation='relu', kernel_constraint=maxnorm(3)))"
   ]
  },
  {
   "cell_type": "code",
   "execution_count": null,
   "metadata": {
    "collapsed": true
   },
   "outputs": [],
   "source": []
  }
 ],
 "metadata": {
  "kernelspec": {
   "display_name": "Python 2",
   "language": "python",
   "name": "python2"
  },
  "language_info": {
   "codemirror_mode": {
    "name": "ipython",
    "version": 2
   },
   "file_extension": ".py",
   "mimetype": "text/x-python",
   "name": "python",
   "nbconvert_exporter": "python",
   "pygments_lexer": "ipython2",
   "version": "2.7.13"
  }
 },
 "nbformat": 4,
 "nbformat_minor": 2
}
